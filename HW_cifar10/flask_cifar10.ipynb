{
 "cells": [
  {
   "cell_type": "code",
   "execution_count": 3,
   "metadata": {},
   "outputs": [],
   "source": [
    "from keras.models import Sequential\n",
    "from keras.layers import Conv2D,MaxPooling2D,Flatten,Dense,Dropout\n",
    "\n",
    "\n",
    "model = Sequential() #初始化\n",
    "model.add(Conv2D(filters=16,kernel_size=2,padding='same',activation='relu',input_shape=(32,32,3)))#2*2的kernal\n",
    "model.add(MaxPooling2D(pool_size = 2))\n",
    "model.add(Conv2D(filters=32,kernel_size=2,padding='same',activation='relu'))\n",
    "model.add(MaxPooling2D(pool_size = 2))\n",
    "model.add(Conv2D(filters=64,kernel_size=2,padding='same',activation='relu'))\n",
    "model.add(MaxPooling2D(pool_size = 2))\n",
    "model.add(Dropout(0.3))\n",
    "model.add(Flatten())\n",
    "model.add(Dense(500,activation='relu'))#500neural 隱藏層\n",
    "model.add(Dropout(0.4))\n",
    "model.add(Dense(10,activation='softmax'))\n",
    "model.compile(loss='categorical_crossentropy',optimizer = 'rmsprop',metrics=['accuracy'])\n",
    "\n",
    "#train the model\n",
    "#checkPointer = ModelCheckpoint(filepath='model.weight.best.hdf5',save_best_only=True,verbose=1)\n",
    "#batch_size=32每次32筆,epochs=40只train 10次,shuffle為隨機抽\n",
    "#hist = model.fit(X_train,y_train,batch_size=32,epochs=10,validation_data=(X_valid,y_valid),\n",
    "#        callbacks = [checkPointer],shuffle=True,verbose=2)\n",
    "\n",
    "model.load_weights('D:/AI/Hw_cifar10/static/model.weight.best.hdf5')"
   ]
  },
  {
   "cell_type": "code",
   "execution_count": 5,
   "metadata": {},
   "outputs": [
    {
     "name": "stdout",
     "output_type": "stream",
     "text": [
      " * Serving Flask app \"__main__\" (lazy loading)\n",
      " * Environment: production\n",
      "   WARNING: Do not use the development server in a production environment.\n",
      "   Use a production WSGI server instead.\n",
      " * Debug mode: off\n"
     ]
    },
    {
     "name": "stderr",
     "output_type": "stream",
     "text": [
      " * Running on http://127.0.0.1:5000/ (Press CTRL+C to quit)\n",
      "127.0.0.1 - - [24/Nov/2020 23:37:58] \"\u001b[37mGET / HTTP/1.1\u001b[0m\" 200 -\n",
      "127.0.0.1 - - [24/Nov/2020 23:37:58] \"\u001b[36mGET /static/style.css HTTP/1.1\u001b[0m\" 304 -\n",
      "127.0.0.1 - - [24/Nov/2020 23:37:58] \"\u001b[36mGET /static/image/galaxy2.jpg HTTP/1.1\u001b[0m\" 304 -\n",
      "127.0.0.1 - - [24/Nov/2020 23:38:03] \"\u001b[37mPOST /home HTTP/1.1\u001b[0m\" 200 -\n",
      "127.0.0.1 - - [24/Nov/2020 23:38:03] \"\u001b[36mGET /static/style.css HTTP/1.1\u001b[0m\" 304 -\n",
      "127.0.0.1 - - [24/Nov/2020 23:38:03] \"\u001b[37mGET /load_img HTTP/1.1\u001b[0m\" 200 -\n",
      "127.0.0.1 - - [24/Nov/2020 23:38:08] \"\u001b[37mGET / HTTP/1.1\u001b[0m\" 200 -\n",
      "127.0.0.1 - - [24/Nov/2020 23:38:08] \"\u001b[36mGET /static/style.css HTTP/1.1\u001b[0m\" 304 -\n",
      "127.0.0.1 - - [24/Nov/2020 23:38:14] \"\u001b[37mPOST /home HTTP/1.1\u001b[0m\" 200 -\n",
      "127.0.0.1 - - [24/Nov/2020 23:38:14] \"\u001b[36mGET /static/style.css HTTP/1.1\u001b[0m\" 304 -\n",
      "127.0.0.1 - - [24/Nov/2020 23:38:14] \"\u001b[37mGET /load_img HTTP/1.1\u001b[0m\" 200 -\n",
      "127.0.0.1 - - [24/Nov/2020 23:38:18] \"\u001b[37mGET / HTTP/1.1\u001b[0m\" 200 -\n",
      "127.0.0.1 - - [24/Nov/2020 23:38:18] \"\u001b[36mGET /static/style.css HTTP/1.1\u001b[0m\" 304 -\n"
     ]
    }
   ],
   "source": [
    "from flask import Flask, render_template, request, send_from_directory\n",
    "import numpy as np\n",
    "import cv2\n",
    "\n",
    "COUNT = 0\n",
    "app = Flask(__name__)\n",
    "app.config[\"SEND_FILE_MAX_AGE_DEFAULT\"] = 1\n",
    "\n",
    "@app.route('/')\n",
    "def main():\n",
    "    return render_template('index.html')\n",
    "\n",
    "\n",
    "@app.route('/home', methods=['POST'])\n",
    "def home():\n",
    "    global COUNT\n",
    "    img = request.files['image']\n",
    "\n",
    "    img.save('D:/AI/Hw_cifar10/static/{}.jpg'.format(COUNT))\n",
    "    img_arr = cv2.imread('D:/AI/Hw_cifar10/static/{}.jpg'.format(COUNT),1)#1為彩色\n",
    "\n",
    "    img_arr = cv2.resize(img_arr,(32,32))\n",
    "    img_arr = img_arr / 255.0\n",
    "    img_arr = img_arr.reshape(1,32,32,3)\n",
    "    prediction = model.predict(img_arr)\n",
    "\n",
    "    airplane = round(prediction[0,0], 2)\n",
    "    automobile = round(prediction[0,1], 2)\n",
    "    bird = round(prediction[0,2], 2)\n",
    "    cat = round(prediction[0,3], 2)\n",
    "    deer = round(prediction[0,4], 2)\n",
    "    dog = round(prediction[0,5], 2)\n",
    "    frog = round(prediction[0,6], 2)\n",
    "    horse = round(prediction[0,7], 2)\n",
    "    ship = round(prediction[0,8], 2)\n",
    "    truck = round(prediction[0,9], 2)\n",
    "    preds = np.array([airplane,automobile,bird,cat,deer,dog,frog,horse,ship,truck])\n",
    "    COUNT += 1\n",
    "    return render_template('prediction.html', data=preds)\n",
    "\n",
    "\n",
    "@app.route('/load_img')\n",
    "def load_img():\n",
    "    global COUNT\n",
    "    return send_from_directory('D:/AI/Hw_cifar10/static','{}.jpg'.format(COUNT-1))\n",
    "\n",
    "if __name__ == '__main__':\n",
    "    app.run()\n"
   ]
  },
  {
   "cell_type": "code",
   "execution_count": null,
   "metadata": {},
   "outputs": [],
   "source": [
    "\n"
   ]
  },
  {
   "cell_type": "code",
   "execution_count": null,
   "metadata": {},
   "outputs": [],
   "source": []
  }
 ],
 "metadata": {
  "kernelspec": {
   "display_name": "Python 3",
   "language": "python",
   "name": "python3"
  },
  "language_info": {
   "codemirror_mode": {
    "name": "ipython",
    "version": 3
   },
   "file_extension": ".py",
   "mimetype": "text/x-python",
   "name": "python",
   "nbconvert_exporter": "python",
   "pygments_lexer": "ipython3",
   "version": "3.7.3"
  }
 },
 "nbformat": 4,
 "nbformat_minor": 2
}
